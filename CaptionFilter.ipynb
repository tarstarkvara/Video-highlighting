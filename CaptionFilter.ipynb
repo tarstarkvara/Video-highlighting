{
 "cells": [
  {
   "cell_type": "code",
   "execution_count": null,
   "metadata": {
    "collapsed": true
   },
   "outputs": [],
   "source": [
    "import json\n",
    "\n",
    "\n",
    "def match_captions(captions, reference):\n",
    "    all_ims = []\n",
    "    for j in range(len(reference)):\n",
    "        chosen = {}\n",
    "        chosen['captions'] = []\n",
    "        chosen['boxes'] = []\n",
    "        chosen['scores'] = []\n",
    "        chosen['img_name'] = captions[j]['img_name']\n",
    "        for i in range(len(captions[j]['captions'])):\n",
    "            if score_caption(captions[j]['captions'][i], reference[j]) > 0.5:\n",
    "                chosen['captions'].append(captions[j]['captions'][i])\n",
    "                chosen['boxes'].append(captions[j]['boxes'][i])\n",
    "                chosen['scores'].append(captions[j]['scores'][i])\n",
    "        all_ims.append(chosen)\n",
    "    return all_ims\n",
    "\n",
    "\n",
    "def score_caption(caption, references):\n",
    "    caption = caption.split(' ')\n",
    "    k = 0\n",
    "    for i in references:\n",
    "        if i in caption:\n",
    "            k += 1\n",
    "    return k/len(caption)\n",
    "\n",
    "data = json.load(open('results.json'))\n",
    "reference_caps = [['this is elephant']]\n",
    "result_json = {}\n",
    "result_json['opt'] = data['opt']\n",
    "result_json['results'] = match_captions(data['results'], reference_caps)\n",
    "\n",
    "print(data)\n",
    "with open('results_filtered.json', 'w') as fp:\n",
    "    json.dump(data, fp, sort_keys=True)"
   ]
  }
 ],
 "metadata": {
  "kernelspec": {
   "display_name": "Python 3",
   "language": "python",
   "name": "python3"
  },
  "language_info": {
   "codemirror_mode": {
    "name": "ipython",
    "version": 3
   },
   "file_extension": ".py",
   "mimetype": "text/x-python",
   "name": "python",
   "nbconvert_exporter": "python",
   "pygments_lexer": "ipython3",
   "version": "3.5.2"
  }
 },
 "nbformat": 4,
 "nbformat_minor": 2
}
