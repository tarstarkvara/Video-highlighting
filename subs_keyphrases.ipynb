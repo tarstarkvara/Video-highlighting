{
 "cells": [
  {
   "cell_type": "code",
   "execution_count": 3,
   "metadata": {},
   "outputs": [],
   "source": [
    "from os import listdir\n",
    "from os.path import join\n",
    "import pysrt\n",
    "from rake_nltk import Rake\n",
    "import re\n",
    "\n",
    "rake = Rake()\n",
    "fldr = \"subtitles\"\n",
    "out_fldr = \"keyw_subs\"\n",
    "html_remover = re.compile('<.*?>')\n",
    "junk_remover = re.compile(r\"[^a-zA-Z0-9\\'\\\"\\.!?,-]\")\n",
    "late_process = re.compile(r\"(\\.\\.\\.)\") # Append this with | if more late processing needed\n",
    "\n",
    "for file in listdir(fldr):\n",
    "    subs = pysrt.open(join(fldr, file))\n",
    "    for sub in subs:\n",
    "        tmp_text = re.sub(html_remover, '', sub.text)\n",
    "        tmp_text = re.sub(junk_remover, ' ', tmp_text)\n",
    "        tmp_text = re.sub(late_process, \"\", tmp_text)\n",
    "        tmp = rake.extract_keywords_from_text(tmp_text)\n",
    "        sub.text = \" @@ \".join(rake.get_ranked_phrases())\n",
    "    subs.save(join(out_fldr, file))\n",
    "            "
   ]
  },
  {
   "cell_type": "code",
   "execution_count": null,
   "metadata": {},
   "outputs": [],
   "source": []
  }
 ],
 "metadata": {
  "kernelspec": {
   "display_name": "Python 3",
   "language": "python",
   "name": "python3"
  },
  "language_info": {
   "codemirror_mode": {
    "name": "ipython",
    "version": 3
   },
   "file_extension": ".py",
   "mimetype": "text/x-python",
   "name": "python",
   "nbconvert_exporter": "python",
   "pygments_lexer": "ipython3",
   "version": "3.6.3"
  }
 },
 "nbformat": 4,
 "nbformat_minor": 2
}
